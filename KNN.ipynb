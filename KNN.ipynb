{
  "nbformat": 4,
  "nbformat_minor": 0,
  "metadata": {
    "colab": {
      "provenance": [],
      "collapsed_sections": [
        "o-bxOr0kZw9b",
        "RU-oUXZqgZBP",
        "90_J1bA6ajY_",
        "Lk0EnpEzfUI0",
        "KWzAwysAIP38"
      ],
      "include_colab_link": true
    },
    "kernelspec": {
      "name": "python3",
      "display_name": "Python 3"
    },
    "language_info": {
      "name": "python"
    }
  },
  "cells": [
    {
      "cell_type": "markdown",
      "metadata": {
        "id": "view-in-github",
        "colab_type": "text"
      },
      "source": [
        "<a href=\"https://colab.research.google.com/github/carlos-junior2/KNN/blob/main/KNN.ipynb\" target=\"_parent\"><img src=\"https://colab.research.google.com/assets/colab-badge.svg\" alt=\"Open In Colab\"/></a>"
      ]
    },
    {
      "cell_type": "markdown",
      "source": [
        "# Implementação (Hardcore)"
      ],
      "metadata": {
        "id": "schRl-RQHyQp"
      }
    },
    {
      "cell_type": "markdown",
      "source": [
        "## Preparando o ambiente"
      ],
      "metadata": {
        "id": "o-bxOr0kZw9b"
      }
    },
    {
      "cell_type": "markdown",
      "source": [
        "Importando bibliotecas"
      ],
      "metadata": {
        "id": "RcZ_ia5zZ1A4"
      }
    },
    {
      "cell_type": "code",
      "source": [
        "import matplotlib.pyplot as plt\n",
        "from google.colab import drive\n",
        "import pandas as pd\n",
        "import numpy as np\n",
        "import random\n",
        "import io"
      ],
      "metadata": {
        "id": "EE-ARE76ZrnK"
      },
      "execution_count": null,
      "outputs": []
    },
    {
      "cell_type": "markdown",
      "source": [
        "Carregando o dataset"
      ],
      "metadata": {
        "id": "uASEnvsCaWl-"
      }
    },
    {
      "cell_type": "code",
      "source": [
        "drive.mount('/content/drive')"
      ],
      "metadata": {
        "id": "kghlHuQUSUaL",
        "colab": {
          "base_uri": "https://localhost:8080/"
        },
        "outputId": "400014ab-b6c1-48b2-ebec-85c4e24ef12b"
      },
      "execution_count": null,
      "outputs": [
        {
          "output_type": "stream",
          "name": "stdout",
          "text": [
            "Mounted at /content/drive\n"
          ]
        }
      ]
    },
    {
      "cell_type": "markdown",
      "source": [
        "## Organizando os dados"
      ],
      "metadata": {
        "id": "RU-oUXZqgZBP"
      }
    },
    {
      "cell_type": "code",
      "source": [
        "iris = pd.read_csv('/content/drive/MyDrive/Colab Notebooks/KNN/Iris.csv')\n",
        "df = pd.DataFrame(iris)\n",
        "df = df.rename(columns={'SepalWidthCm': 'y', 'PetalLengthCm': 'x'})\n",
        "df.head()"
      ],
      "metadata": {
        "id": "KQydNfksfHNC",
        "colab": {
          "base_uri": "https://localhost:8080/",
          "height": 206
        },
        "outputId": "c64fc56b-edee-493a-bd9a-e342547ed6b5",
        "collapsed": true
      },
      "execution_count": null,
      "outputs": [
        {
          "output_type": "execute_result",
          "data": {
            "text/plain": [
              "   Id  SepalLengthCm    y    x  PetalWidthCm      Species\n",
              "0   1            5.1  3.5  1.4           0.2  Iris-setosa\n",
              "1   2            4.9  3.0  1.4           0.2  Iris-setosa\n",
              "2   3            4.7  3.2  1.3           0.2  Iris-setosa\n",
              "3   4            4.6  3.1  1.5           0.2  Iris-setosa\n",
              "4   5            5.0  3.6  1.4           0.2  Iris-setosa"
            ],
            "text/html": [
              "\n",
              "  <div id=\"df-9dc1d905-eecd-4967-92cf-34906890162d\" class=\"colab-df-container\">\n",
              "    <div>\n",
              "<style scoped>\n",
              "    .dataframe tbody tr th:only-of-type {\n",
              "        vertical-align: middle;\n",
              "    }\n",
              "\n",
              "    .dataframe tbody tr th {\n",
              "        vertical-align: top;\n",
              "    }\n",
              "\n",
              "    .dataframe thead th {\n",
              "        text-align: right;\n",
              "    }\n",
              "</style>\n",
              "<table border=\"1\" class=\"dataframe\">\n",
              "  <thead>\n",
              "    <tr style=\"text-align: right;\">\n",
              "      <th></th>\n",
              "      <th>Id</th>\n",
              "      <th>SepalLengthCm</th>\n",
              "      <th>y</th>\n",
              "      <th>x</th>\n",
              "      <th>PetalWidthCm</th>\n",
              "      <th>Species</th>\n",
              "    </tr>\n",
              "  </thead>\n",
              "  <tbody>\n",
              "    <tr>\n",
              "      <th>0</th>\n",
              "      <td>1</td>\n",
              "      <td>5.1</td>\n",
              "      <td>3.5</td>\n",
              "      <td>1.4</td>\n",
              "      <td>0.2</td>\n",
              "      <td>Iris-setosa</td>\n",
              "    </tr>\n",
              "    <tr>\n",
              "      <th>1</th>\n",
              "      <td>2</td>\n",
              "      <td>4.9</td>\n",
              "      <td>3.0</td>\n",
              "      <td>1.4</td>\n",
              "      <td>0.2</td>\n",
              "      <td>Iris-setosa</td>\n",
              "    </tr>\n",
              "    <tr>\n",
              "      <th>2</th>\n",
              "      <td>3</td>\n",
              "      <td>4.7</td>\n",
              "      <td>3.2</td>\n",
              "      <td>1.3</td>\n",
              "      <td>0.2</td>\n",
              "      <td>Iris-setosa</td>\n",
              "    </tr>\n",
              "    <tr>\n",
              "      <th>3</th>\n",
              "      <td>4</td>\n",
              "      <td>4.6</td>\n",
              "      <td>3.1</td>\n",
              "      <td>1.5</td>\n",
              "      <td>0.2</td>\n",
              "      <td>Iris-setosa</td>\n",
              "    </tr>\n",
              "    <tr>\n",
              "      <th>4</th>\n",
              "      <td>5</td>\n",
              "      <td>5.0</td>\n",
              "      <td>3.6</td>\n",
              "      <td>1.4</td>\n",
              "      <td>0.2</td>\n",
              "      <td>Iris-setosa</td>\n",
              "    </tr>\n",
              "  </tbody>\n",
              "</table>\n",
              "</div>\n",
              "    <div class=\"colab-df-buttons\">\n",
              "\n",
              "  <div class=\"colab-df-container\">\n",
              "    <button class=\"colab-df-convert\" onclick=\"convertToInteractive('df-9dc1d905-eecd-4967-92cf-34906890162d')\"\n",
              "            title=\"Convert this dataframe to an interactive table.\"\n",
              "            style=\"display:none;\">\n",
              "\n",
              "  <svg xmlns=\"http://www.w3.org/2000/svg\" height=\"24px\" viewBox=\"0 -960 960 960\">\n",
              "    <path d=\"M120-120v-720h720v720H120Zm60-500h600v-160H180v160Zm220 220h160v-160H400v160Zm0 220h160v-160H400v160ZM180-400h160v-160H180v160Zm440 0h160v-160H620v160ZM180-180h160v-160H180v160Zm440 0h160v-160H620v160Z\"/>\n",
              "  </svg>\n",
              "    </button>\n",
              "\n",
              "  <style>\n",
              "    .colab-df-container {\n",
              "      display:flex;\n",
              "      gap: 12px;\n",
              "    }\n",
              "\n",
              "    .colab-df-convert {\n",
              "      background-color: #E8F0FE;\n",
              "      border: none;\n",
              "      border-radius: 50%;\n",
              "      cursor: pointer;\n",
              "      display: none;\n",
              "      fill: #1967D2;\n",
              "      height: 32px;\n",
              "      padding: 0 0 0 0;\n",
              "      width: 32px;\n",
              "    }\n",
              "\n",
              "    .colab-df-convert:hover {\n",
              "      background-color: #E2EBFA;\n",
              "      box-shadow: 0px 1px 2px rgba(60, 64, 67, 0.3), 0px 1px 3px 1px rgba(60, 64, 67, 0.15);\n",
              "      fill: #174EA6;\n",
              "    }\n",
              "\n",
              "    .colab-df-buttons div {\n",
              "      margin-bottom: 4px;\n",
              "    }\n",
              "\n",
              "    [theme=dark] .colab-df-convert {\n",
              "      background-color: #3B4455;\n",
              "      fill: #D2E3FC;\n",
              "    }\n",
              "\n",
              "    [theme=dark] .colab-df-convert:hover {\n",
              "      background-color: #434B5C;\n",
              "      box-shadow: 0px 1px 3px 1px rgba(0, 0, 0, 0.15);\n",
              "      filter: drop-shadow(0px 1px 2px rgba(0, 0, 0, 0.3));\n",
              "      fill: #FFFFFF;\n",
              "    }\n",
              "  </style>\n",
              "\n",
              "    <script>\n",
              "      const buttonEl =\n",
              "        document.querySelector('#df-9dc1d905-eecd-4967-92cf-34906890162d button.colab-df-convert');\n",
              "      buttonEl.style.display =\n",
              "        google.colab.kernel.accessAllowed ? 'block' : 'none';\n",
              "\n",
              "      async function convertToInteractive(key) {\n",
              "        const element = document.querySelector('#df-9dc1d905-eecd-4967-92cf-34906890162d');\n",
              "        const dataTable =\n",
              "          await google.colab.kernel.invokeFunction('convertToInteractive',\n",
              "                                                    [key], {});\n",
              "        if (!dataTable) return;\n",
              "\n",
              "        const docLinkHtml = 'Like what you see? Visit the ' +\n",
              "          '<a target=\"_blank\" href=https://colab.research.google.com/notebooks/data_table.ipynb>data table notebook</a>'\n",
              "          + ' to learn more about interactive tables.';\n",
              "        element.innerHTML = '';\n",
              "        dataTable['output_type'] = 'display_data';\n",
              "        await google.colab.output.renderOutput(dataTable, element);\n",
              "        const docLink = document.createElement('div');\n",
              "        docLink.innerHTML = docLinkHtml;\n",
              "        element.appendChild(docLink);\n",
              "      }\n",
              "    </script>\n",
              "  </div>\n",
              "\n",
              "\n",
              "<div id=\"df-448f8079-5ff9-4dfb-b528-b737806b468a\">\n",
              "  <button class=\"colab-df-quickchart\" onclick=\"quickchart('df-448f8079-5ff9-4dfb-b528-b737806b468a')\"\n",
              "            title=\"Suggest charts\"\n",
              "            style=\"display:none;\">\n",
              "\n",
              "<svg xmlns=\"http://www.w3.org/2000/svg\" height=\"24px\"viewBox=\"0 0 24 24\"\n",
              "     width=\"24px\">\n",
              "    <g>\n",
              "        <path d=\"M19 3H5c-1.1 0-2 .9-2 2v14c0 1.1.9 2 2 2h14c1.1 0 2-.9 2-2V5c0-1.1-.9-2-2-2zM9 17H7v-7h2v7zm4 0h-2V7h2v10zm4 0h-2v-4h2v4z\"/>\n",
              "    </g>\n",
              "</svg>\n",
              "  </button>\n",
              "\n",
              "<style>\n",
              "  .colab-df-quickchart {\n",
              "      --bg-color: #E8F0FE;\n",
              "      --fill-color: #1967D2;\n",
              "      --hover-bg-color: #E2EBFA;\n",
              "      --hover-fill-color: #174EA6;\n",
              "      --disabled-fill-color: #AAA;\n",
              "      --disabled-bg-color: #DDD;\n",
              "  }\n",
              "\n",
              "  [theme=dark] .colab-df-quickchart {\n",
              "      --bg-color: #3B4455;\n",
              "      --fill-color: #D2E3FC;\n",
              "      --hover-bg-color: #434B5C;\n",
              "      --hover-fill-color: #FFFFFF;\n",
              "      --disabled-bg-color: #3B4455;\n",
              "      --disabled-fill-color: #666;\n",
              "  }\n",
              "\n",
              "  .colab-df-quickchart {\n",
              "    background-color: var(--bg-color);\n",
              "    border: none;\n",
              "    border-radius: 50%;\n",
              "    cursor: pointer;\n",
              "    display: none;\n",
              "    fill: var(--fill-color);\n",
              "    height: 32px;\n",
              "    padding: 0;\n",
              "    width: 32px;\n",
              "  }\n",
              "\n",
              "  .colab-df-quickchart:hover {\n",
              "    background-color: var(--hover-bg-color);\n",
              "    box-shadow: 0 1px 2px rgba(60, 64, 67, 0.3), 0 1px 3px 1px rgba(60, 64, 67, 0.15);\n",
              "    fill: var(--button-hover-fill-color);\n",
              "  }\n",
              "\n",
              "  .colab-df-quickchart-complete:disabled,\n",
              "  .colab-df-quickchart-complete:disabled:hover {\n",
              "    background-color: var(--disabled-bg-color);\n",
              "    fill: var(--disabled-fill-color);\n",
              "    box-shadow: none;\n",
              "  }\n",
              "\n",
              "  .colab-df-spinner {\n",
              "    border: 2px solid var(--fill-color);\n",
              "    border-color: transparent;\n",
              "    border-bottom-color: var(--fill-color);\n",
              "    animation:\n",
              "      spin 1s steps(1) infinite;\n",
              "  }\n",
              "\n",
              "  @keyframes spin {\n",
              "    0% {\n",
              "      border-color: transparent;\n",
              "      border-bottom-color: var(--fill-color);\n",
              "      border-left-color: var(--fill-color);\n",
              "    }\n",
              "    20% {\n",
              "      border-color: transparent;\n",
              "      border-left-color: var(--fill-color);\n",
              "      border-top-color: var(--fill-color);\n",
              "    }\n",
              "    30% {\n",
              "      border-color: transparent;\n",
              "      border-left-color: var(--fill-color);\n",
              "      border-top-color: var(--fill-color);\n",
              "      border-right-color: var(--fill-color);\n",
              "    }\n",
              "    40% {\n",
              "      border-color: transparent;\n",
              "      border-right-color: var(--fill-color);\n",
              "      border-top-color: var(--fill-color);\n",
              "    }\n",
              "    60% {\n",
              "      border-color: transparent;\n",
              "      border-right-color: var(--fill-color);\n",
              "    }\n",
              "    80% {\n",
              "      border-color: transparent;\n",
              "      border-right-color: var(--fill-color);\n",
              "      border-bottom-color: var(--fill-color);\n",
              "    }\n",
              "    90% {\n",
              "      border-color: transparent;\n",
              "      border-bottom-color: var(--fill-color);\n",
              "    }\n",
              "  }\n",
              "</style>\n",
              "\n",
              "  <script>\n",
              "    async function quickchart(key) {\n",
              "      const quickchartButtonEl =\n",
              "        document.querySelector('#' + key + ' button');\n",
              "      quickchartButtonEl.disabled = true;  // To prevent multiple clicks.\n",
              "      quickchartButtonEl.classList.add('colab-df-spinner');\n",
              "      try {\n",
              "        const charts = await google.colab.kernel.invokeFunction(\n",
              "            'suggestCharts', [key], {});\n",
              "      } catch (error) {\n",
              "        console.error('Error during call to suggestCharts:', error);\n",
              "      }\n",
              "      quickchartButtonEl.classList.remove('colab-df-spinner');\n",
              "      quickchartButtonEl.classList.add('colab-df-quickchart-complete');\n",
              "    }\n",
              "    (() => {\n",
              "      let quickchartButtonEl =\n",
              "        document.querySelector('#df-448f8079-5ff9-4dfb-b528-b737806b468a button');\n",
              "      quickchartButtonEl.style.display =\n",
              "        google.colab.kernel.accessAllowed ? 'block' : 'none';\n",
              "    })();\n",
              "  </script>\n",
              "</div>\n",
              "\n",
              "    </div>\n",
              "  </div>\n"
            ],
            "application/vnd.google.colaboratory.intrinsic+json": {
              "type": "dataframe",
              "variable_name": "df",
              "summary": "{\n  \"name\": \"df\",\n  \"rows\": 150,\n  \"fields\": [\n    {\n      \"column\": \"Id\",\n      \"properties\": {\n        \"dtype\": \"number\",\n        \"std\": 43,\n        \"min\": 1,\n        \"max\": 150,\n        \"num_unique_values\": 150,\n        \"samples\": [\n          74,\n          19,\n          119\n        ],\n        \"semantic_type\": \"\",\n        \"description\": \"\"\n      }\n    },\n    {\n      \"column\": \"SepalLengthCm\",\n      \"properties\": {\n        \"dtype\": \"number\",\n        \"std\": 0.8280661279778629,\n        \"min\": 4.3,\n        \"max\": 7.9,\n        \"num_unique_values\": 35,\n        \"samples\": [\n          6.2,\n          4.5,\n          5.6\n        ],\n        \"semantic_type\": \"\",\n        \"description\": \"\"\n      }\n    },\n    {\n      \"column\": \"y\",\n      \"properties\": {\n        \"dtype\": \"number\",\n        \"std\": 0.4335943113621737,\n        \"min\": 2.0,\n        \"max\": 4.4,\n        \"num_unique_values\": 23,\n        \"samples\": [\n          2.3,\n          4.0,\n          3.5\n        ],\n        \"semantic_type\": \"\",\n        \"description\": \"\"\n      }\n    },\n    {\n      \"column\": \"x\",\n      \"properties\": {\n        \"dtype\": \"number\",\n        \"std\": 1.7644204199522617,\n        \"min\": 1.0,\n        \"max\": 6.9,\n        \"num_unique_values\": 43,\n        \"samples\": [\n          6.7,\n          3.8,\n          3.7\n        ],\n        \"semantic_type\": \"\",\n        \"description\": \"\"\n      }\n    },\n    {\n      \"column\": \"PetalWidthCm\",\n      \"properties\": {\n        \"dtype\": \"number\",\n        \"std\": 0.7631607417008414,\n        \"min\": 0.1,\n        \"max\": 2.5,\n        \"num_unique_values\": 22,\n        \"samples\": [\n          0.2,\n          1.2,\n          1.3\n        ],\n        \"semantic_type\": \"\",\n        \"description\": \"\"\n      }\n    },\n    {\n      \"column\": \"Species\",\n      \"properties\": {\n        \"dtype\": \"category\",\n        \"num_unique_values\": 3,\n        \"samples\": [\n          \"Iris-setosa\",\n          \"Iris-versicolor\",\n          \"Iris-virginica\"\n        ],\n        \"semantic_type\": \"\",\n        \"description\": \"\"\n      }\n    }\n  ]\n}"
            }
          },
          "metadata": {},
          "execution_count": 3
        }
      ]
    },
    {
      "cell_type": "markdown",
      "source": [
        "Salva as colunas específicas do csv em uma lista"
      ],
      "metadata": {
        "id": "38iBiKqDhWZY"
      }
    },
    {
      "cell_type": "code",
      "source": [
        "colunas_selecionadas = df[['Id', 'x', 'y', 'Species']]\n",
        "dados = colunas_selecionadas.to_dict(orient='records')\n",
        "\n",
        "dados[:10]"
      ],
      "metadata": {
        "colab": {
          "base_uri": "https://localhost:8080/"
        },
        "id": "OEBKR1h-FJ2h",
        "outputId": "8033daf4-986f-4720-af8c-2e16324ab73b"
      },
      "execution_count": null,
      "outputs": [
        {
          "output_type": "execute_result",
          "data": {
            "text/plain": [
              "[{'Id': 1, 'x': 1.4, 'y': 3.5, 'Species': 'Iris-setosa'},\n",
              " {'Id': 2, 'x': 1.4, 'y': 3.0, 'Species': 'Iris-setosa'},\n",
              " {'Id': 3, 'x': 1.3, 'y': 3.2, 'Species': 'Iris-setosa'},\n",
              " {'Id': 4, 'x': 1.5, 'y': 3.1, 'Species': 'Iris-setosa'},\n",
              " {'Id': 5, 'x': 1.4, 'y': 3.6, 'Species': 'Iris-setosa'},\n",
              " {'Id': 6, 'x': 1.7, 'y': 3.9, 'Species': 'Iris-setosa'},\n",
              " {'Id': 7, 'x': 1.4, 'y': 3.4, 'Species': 'Iris-setosa'},\n",
              " {'Id': 8, 'x': 1.5, 'y': 3.4, 'Species': 'Iris-setosa'},\n",
              " {'Id': 9, 'x': 1.4, 'y': 2.9, 'Species': 'Iris-setosa'},\n",
              " {'Id': 10, 'x': 1.5, 'y': 3.1, 'Species': 'Iris-setosa'}]"
            ]
          },
          "metadata": {},
          "execution_count": 4
        }
      ]
    },
    {
      "cell_type": "markdown",
      "source": [
        "Fazer uma cópia e embaralhar a cópia"
      ],
      "metadata": {
        "id": "vc04A4XphCRv"
      }
    },
    {
      "cell_type": "code",
      "source": [
        "dadosEmbaralhados = dados[:]\n",
        "random.shuffle(dadosEmbaralhados)\n",
        "\n",
        "dadosEmbaralhados[:10] # imprimir uma pequena amostra"
      ],
      "metadata": {
        "colab": {
          "base_uri": "https://localhost:8080/"
        },
        "id": "hMn6MchXGSba",
        "outputId": "b269df0f-e7e1-4fd8-b5b9-ae25dbd04852"
      },
      "execution_count": null,
      "outputs": [
        {
          "output_type": "execute_result",
          "data": {
            "text/plain": [
              "[{'Id': 84, 'x': 5.1, 'y': 2.7, 'Species': 'Iris-versicolor'},\n",
              " {'Id': 30, 'x': 1.6, 'y': 3.2, 'Species': 'Iris-setosa'},\n",
              " {'Id': 82, 'x': 3.7, 'y': 2.4, 'Species': 'Iris-versicolor'},\n",
              " {'Id': 132, 'x': 6.4, 'y': 3.8, 'Species': 'Iris-virginica'},\n",
              " {'Id': 14, 'x': 1.1, 'y': 3.0, 'Species': 'Iris-setosa'},\n",
              " {'Id': 150, 'x': 5.1, 'y': 3.0, 'Species': 'Iris-virginica'},\n",
              " {'Id': 61, 'x': 3.5, 'y': 2.0, 'Species': 'Iris-versicolor'},\n",
              " {'Id': 97, 'x': 4.2, 'y': 2.9, 'Species': 'Iris-versicolor'},\n",
              " {'Id': 136, 'x': 6.1, 'y': 3.0, 'Species': 'Iris-virginica'},\n",
              " {'Id': 77, 'x': 4.8, 'y': 2.8, 'Species': 'Iris-versicolor'}]"
            ]
          },
          "metadata": {},
          "execution_count": 5
        }
      ]
    },
    {
      "cell_type": "markdown",
      "source": [
        "Dividir a lista em 80% para treino e 20% para teste\n"
      ],
      "metadata": {
        "id": "i_cHlJMlZZEr"
      }
    },
    {
      "cell_type": "code",
      "source": [
        "treino = dadosEmbaralhados[:120]\n",
        "teste = dadosEmbaralhados[120:]\n",
        "\n",
        "print (\"Treino: \" , treino)\n",
        "print (\"Tamanho treino: \", len(treino))\n",
        "print (\"Teste: \" , teste)\n",
        "print (\"Tamanho teste: \", len(teste))"
      ],
      "metadata": {
        "colab": {
          "base_uri": "https://localhost:8080/"
        },
        "id": "PVkbvCBTHDg0",
        "outputId": "601a127b-64f6-4e1d-e401-921a3d91c8ee"
      },
      "execution_count": null,
      "outputs": [
        {
          "output_type": "stream",
          "name": "stdout",
          "text": [
            "Treino:  [{'Id': 84, 'x': 5.1, 'y': 2.7, 'Species': 'Iris-versicolor'}, {'Id': 30, 'x': 1.6, 'y': 3.2, 'Species': 'Iris-setosa'}, {'Id': 82, 'x': 3.7, 'y': 2.4, 'Species': 'Iris-versicolor'}, {'Id': 132, 'x': 6.4, 'y': 3.8, 'Species': 'Iris-virginica'}, {'Id': 14, 'x': 1.1, 'y': 3.0, 'Species': 'Iris-setosa'}, {'Id': 150, 'x': 5.1, 'y': 3.0, 'Species': 'Iris-virginica'}, {'Id': 61, 'x': 3.5, 'y': 2.0, 'Species': 'Iris-versicolor'}, {'Id': 97, 'x': 4.2, 'y': 2.9, 'Species': 'Iris-versicolor'}, {'Id': 136, 'x': 6.1, 'y': 3.0, 'Species': 'Iris-virginica'}, {'Id': 77, 'x': 4.8, 'y': 2.8, 'Species': 'Iris-versicolor'}, {'Id': 45, 'x': 1.9, 'y': 3.8, 'Species': 'Iris-setosa'}, {'Id': 118, 'x': 6.7, 'y': 3.8, 'Species': 'Iris-virginica'}, {'Id': 21, 'x': 1.7, 'y': 3.4, 'Species': 'Iris-setosa'}, {'Id': 66, 'x': 4.4, 'y': 3.1, 'Species': 'Iris-versicolor'}, {'Id': 149, 'x': 5.4, 'y': 3.4, 'Species': 'Iris-virginica'}, {'Id': 74, 'x': 4.7, 'y': 2.8, 'Species': 'Iris-versicolor'}, {'Id': 104, 'x': 5.6, 'y': 2.9, 'Species': 'Iris-virginica'}, {'Id': 13, 'x': 1.4, 'y': 3.0, 'Species': 'Iris-setosa'}, {'Id': 91, 'x': 4.4, 'y': 2.6, 'Species': 'Iris-versicolor'}, {'Id': 9, 'x': 1.4, 'y': 2.9, 'Species': 'Iris-setosa'}, {'Id': 71, 'x': 4.8, 'y': 3.2, 'Species': 'Iris-versicolor'}, {'Id': 51, 'x': 4.7, 'y': 3.2, 'Species': 'Iris-versicolor'}, {'Id': 119, 'x': 6.9, 'y': 2.6, 'Species': 'Iris-virginica'}, {'Id': 41, 'x': 1.3, 'y': 3.5, 'Species': 'Iris-setosa'}, {'Id': 79, 'x': 4.5, 'y': 2.9, 'Species': 'Iris-versicolor'}, {'Id': 52, 'x': 4.5, 'y': 3.2, 'Species': 'Iris-versicolor'}, {'Id': 143, 'x': 5.1, 'y': 2.7, 'Species': 'Iris-virginica'}, {'Id': 56, 'x': 4.5, 'y': 2.8, 'Species': 'Iris-versicolor'}, {'Id': 102, 'x': 5.1, 'y': 2.7, 'Species': 'Iris-virginica'}, {'Id': 39, 'x': 1.3, 'y': 3.0, 'Species': 'Iris-setosa'}, {'Id': 146, 'x': 5.2, 'y': 3.0, 'Species': 'Iris-virginica'}, {'Id': 90, 'x': 4.0, 'y': 2.5, 'Species': 'Iris-versicolor'}, {'Id': 133, 'x': 5.6, 'y': 2.8, 'Species': 'Iris-virginica'}, {'Id': 113, 'x': 5.5, 'y': 3.0, 'Species': 'Iris-virginica'}, {'Id': 147, 'x': 5.0, 'y': 2.5, 'Species': 'Iris-virginica'}, {'Id': 24, 'x': 1.7, 'y': 3.3, 'Species': 'Iris-setosa'}, {'Id': 81, 'x': 3.8, 'y': 2.4, 'Species': 'Iris-versicolor'}, {'Id': 50, 'x': 1.4, 'y': 3.3, 'Species': 'Iris-setosa'}, {'Id': 129, 'x': 5.6, 'y': 2.8, 'Species': 'Iris-virginica'}, {'Id': 130, 'x': 5.8, 'y': 3.0, 'Species': 'Iris-virginica'}, {'Id': 68, 'x': 4.1, 'y': 2.7, 'Species': 'Iris-versicolor'}, {'Id': 18, 'x': 1.4, 'y': 3.5, 'Species': 'Iris-setosa'}, {'Id': 64, 'x': 4.7, 'y': 2.9, 'Species': 'Iris-versicolor'}, {'Id': 75, 'x': 4.3, 'y': 2.9, 'Species': 'Iris-versicolor'}, {'Id': 94, 'x': 3.3, 'y': 2.3, 'Species': 'Iris-versicolor'}, {'Id': 85, 'x': 4.5, 'y': 3.0, 'Species': 'Iris-versicolor'}, {'Id': 35, 'x': 1.5, 'y': 3.1, 'Species': 'Iris-setosa'}, {'Id': 142, 'x': 5.1, 'y': 3.1, 'Species': 'Iris-virginica'}, {'Id': 28, 'x': 1.5, 'y': 3.5, 'Species': 'Iris-setosa'}, {'Id': 124, 'x': 4.9, 'y': 2.7, 'Species': 'Iris-virginica'}, {'Id': 135, 'x': 5.6, 'y': 2.6, 'Species': 'Iris-virginica'}, {'Id': 1, 'x': 1.4, 'y': 3.5, 'Species': 'Iris-setosa'}, {'Id': 103, 'x': 5.9, 'y': 3.0, 'Species': 'Iris-virginica'}, {'Id': 99, 'x': 3.0, 'y': 2.5, 'Species': 'Iris-versicolor'}, {'Id': 86, 'x': 4.5, 'y': 3.4, 'Species': 'Iris-versicolor'}, {'Id': 42, 'x': 1.3, 'y': 2.3, 'Species': 'Iris-setosa'}, {'Id': 137, 'x': 5.6, 'y': 3.4, 'Species': 'Iris-virginica'}, {'Id': 69, 'x': 4.5, 'y': 2.2, 'Species': 'Iris-versicolor'}, {'Id': 37, 'x': 1.3, 'y': 3.5, 'Species': 'Iris-setosa'}, {'Id': 89, 'x': 4.1, 'y': 3.0, 'Species': 'Iris-versicolor'}, {'Id': 16, 'x': 1.5, 'y': 4.4, 'Species': 'Iris-setosa'}, {'Id': 83, 'x': 3.9, 'y': 2.7, 'Species': 'Iris-versicolor'}, {'Id': 8, 'x': 1.5, 'y': 3.4, 'Species': 'Iris-setosa'}, {'Id': 125, 'x': 5.7, 'y': 3.3, 'Species': 'Iris-virginica'}, {'Id': 121, 'x': 5.7, 'y': 3.2, 'Species': 'Iris-virginica'}, {'Id': 106, 'x': 6.6, 'y': 3.0, 'Species': 'Iris-virginica'}, {'Id': 115, 'x': 5.1, 'y': 2.8, 'Species': 'Iris-virginica'}, {'Id': 55, 'x': 4.6, 'y': 2.8, 'Species': 'Iris-versicolor'}, {'Id': 25, 'x': 1.9, 'y': 3.4, 'Species': 'Iris-setosa'}, {'Id': 117, 'x': 5.5, 'y': 3.0, 'Species': 'Iris-virginica'}, {'Id': 22, 'x': 1.5, 'y': 3.7, 'Species': 'Iris-setosa'}, {'Id': 78, 'x': 5.0, 'y': 3.0, 'Species': 'Iris-versicolor'}, {'Id': 73, 'x': 4.9, 'y': 2.5, 'Species': 'Iris-versicolor'}, {'Id': 101, 'x': 6.0, 'y': 3.3, 'Species': 'Iris-virginica'}, {'Id': 46, 'x': 1.4, 'y': 3.0, 'Species': 'Iris-setosa'}, {'Id': 100, 'x': 4.1, 'y': 2.8, 'Species': 'Iris-versicolor'}, {'Id': 32, 'x': 1.5, 'y': 3.4, 'Species': 'Iris-setosa'}, {'Id': 131, 'x': 6.1, 'y': 2.8, 'Species': 'Iris-virginica'}, {'Id': 108, 'x': 6.3, 'y': 2.9, 'Species': 'Iris-virginica'}, {'Id': 88, 'x': 4.4, 'y': 2.3, 'Species': 'Iris-versicolor'}, {'Id': 138, 'x': 5.5, 'y': 3.1, 'Species': 'Iris-virginica'}, {'Id': 54, 'x': 4.0, 'y': 2.3, 'Species': 'Iris-versicolor'}, {'Id': 6, 'x': 1.7, 'y': 3.9, 'Species': 'Iris-setosa'}, {'Id': 3, 'x': 1.3, 'y': 3.2, 'Species': 'Iris-setosa'}, {'Id': 98, 'x': 4.3, 'y': 2.9, 'Species': 'Iris-versicolor'}, {'Id': 126, 'x': 6.0, 'y': 3.2, 'Species': 'Iris-virginica'}, {'Id': 49, 'x': 1.5, 'y': 3.7, 'Species': 'Iris-setosa'}, {'Id': 123, 'x': 6.7, 'y': 2.8, 'Species': 'Iris-virginica'}, {'Id': 139, 'x': 4.8, 'y': 3.0, 'Species': 'Iris-virginica'}, {'Id': 145, 'x': 5.7, 'y': 3.3, 'Species': 'Iris-virginica'}, {'Id': 47, 'x': 1.6, 'y': 3.8, 'Species': 'Iris-setosa'}, {'Id': 116, 'x': 5.3, 'y': 3.2, 'Species': 'Iris-virginica'}, {'Id': 58, 'x': 3.3, 'y': 2.4, 'Species': 'Iris-versicolor'}, {'Id': 33, 'x': 1.5, 'y': 4.1, 'Species': 'Iris-setosa'}, {'Id': 44, 'x': 1.6, 'y': 3.5, 'Species': 'Iris-setosa'}, {'Id': 60, 'x': 3.9, 'y': 2.7, 'Species': 'Iris-versicolor'}, {'Id': 127, 'x': 4.8, 'y': 2.8, 'Species': 'Iris-virginica'}, {'Id': 7, 'x': 1.4, 'y': 3.4, 'Species': 'Iris-setosa'}, {'Id': 31, 'x': 1.6, 'y': 3.1, 'Species': 'Iris-setosa'}, {'Id': 5, 'x': 1.4, 'y': 3.6, 'Species': 'Iris-setosa'}, {'Id': 111, 'x': 5.1, 'y': 3.2, 'Species': 'Iris-virginica'}, {'Id': 23, 'x': 1.0, 'y': 3.6, 'Species': 'Iris-setosa'}, {'Id': 114, 'x': 5.0, 'y': 2.5, 'Species': 'Iris-virginica'}, {'Id': 17, 'x': 1.3, 'y': 3.9, 'Species': 'Iris-setosa'}, {'Id': 72, 'x': 4.0, 'y': 2.8, 'Species': 'Iris-versicolor'}, {'Id': 107, 'x': 4.5, 'y': 2.5, 'Species': 'Iris-virginica'}, {'Id': 70, 'x': 3.9, 'y': 2.5, 'Species': 'Iris-versicolor'}, {'Id': 128, 'x': 4.9, 'y': 3.0, 'Species': 'Iris-virginica'}, {'Id': 87, 'x': 4.7, 'y': 3.1, 'Species': 'Iris-versicolor'}, {'Id': 109, 'x': 5.8, 'y': 2.5, 'Species': 'Iris-virginica'}, {'Id': 95, 'x': 4.2, 'y': 2.7, 'Species': 'Iris-versicolor'}, {'Id': 10, 'x': 1.5, 'y': 3.1, 'Species': 'Iris-setosa'}, {'Id': 57, 'x': 4.7, 'y': 3.3, 'Species': 'Iris-versicolor'}, {'Id': 27, 'x': 1.6, 'y': 3.4, 'Species': 'Iris-setosa'}, {'Id': 141, 'x': 5.6, 'y': 3.1, 'Species': 'Iris-virginica'}, {'Id': 11, 'x': 1.5, 'y': 3.7, 'Species': 'Iris-setosa'}, {'Id': 93, 'x': 4.0, 'y': 2.6, 'Species': 'Iris-versicolor'}, {'Id': 20, 'x': 1.5, 'y': 3.8, 'Species': 'Iris-setosa'}, {'Id': 43, 'x': 1.3, 'y': 3.2, 'Species': 'Iris-setosa'}, {'Id': 36, 'x': 1.2, 'y': 3.2, 'Species': 'Iris-setosa'}]\n",
            "Tamanho treino:  120\n",
            "Teste:  [{'Id': 63, 'x': 4.0, 'y': 2.2, 'Species': 'Iris-versicolor'}, {'Id': 26, 'x': 1.6, 'y': 3.0, 'Species': 'Iris-setosa'}, {'Id': 40, 'x': 1.5, 'y': 3.4, 'Species': 'Iris-setosa'}, {'Id': 62, 'x': 4.2, 'y': 3.0, 'Species': 'Iris-versicolor'}, {'Id': 120, 'x': 5.0, 'y': 2.2, 'Species': 'Iris-virginica'}, {'Id': 2, 'x': 1.4, 'y': 3.0, 'Species': 'Iris-setosa'}, {'Id': 140, 'x': 5.4, 'y': 3.1, 'Species': 'Iris-virginica'}, {'Id': 112, 'x': 5.3, 'y': 2.7, 'Species': 'Iris-virginica'}, {'Id': 48, 'x': 1.4, 'y': 3.2, 'Species': 'Iris-setosa'}, {'Id': 67, 'x': 4.5, 'y': 3.0, 'Species': 'Iris-versicolor'}, {'Id': 76, 'x': 4.4, 'y': 3.0, 'Species': 'Iris-versicolor'}, {'Id': 96, 'x': 4.2, 'y': 3.0, 'Species': 'Iris-versicolor'}, {'Id': 122, 'x': 4.9, 'y': 2.8, 'Species': 'Iris-virginica'}, {'Id': 65, 'x': 3.6, 'y': 2.9, 'Species': 'Iris-versicolor'}, {'Id': 19, 'x': 1.7, 'y': 3.8, 'Species': 'Iris-setosa'}, {'Id': 92, 'x': 4.6, 'y': 3.0, 'Species': 'Iris-versicolor'}, {'Id': 59, 'x': 4.6, 'y': 2.9, 'Species': 'Iris-versicolor'}, {'Id': 53, 'x': 4.9, 'y': 3.1, 'Species': 'Iris-versicolor'}, {'Id': 29, 'x': 1.4, 'y': 3.4, 'Species': 'Iris-setosa'}, {'Id': 34, 'x': 1.4, 'y': 4.2, 'Species': 'Iris-setosa'}, {'Id': 110, 'x': 6.1, 'y': 3.6, 'Species': 'Iris-virginica'}, {'Id': 148, 'x': 5.2, 'y': 3.0, 'Species': 'Iris-virginica'}, {'Id': 4, 'x': 1.5, 'y': 3.1, 'Species': 'Iris-setosa'}, {'Id': 105, 'x': 5.8, 'y': 3.0, 'Species': 'Iris-virginica'}, {'Id': 12, 'x': 1.6, 'y': 3.4, 'Species': 'Iris-setosa'}, {'Id': 80, 'x': 3.5, 'y': 2.6, 'Species': 'Iris-versicolor'}, {'Id': 134, 'x': 5.1, 'y': 2.8, 'Species': 'Iris-virginica'}, {'Id': 144, 'x': 5.9, 'y': 3.2, 'Species': 'Iris-virginica'}, {'Id': 38, 'x': 1.5, 'y': 3.1, 'Species': 'Iris-setosa'}, {'Id': 15, 'x': 1.2, 'y': 4.0, 'Species': 'Iris-setosa'}]\n",
            "Tamanho teste:  30\n"
          ]
        }
      ]
    },
    {
      "cell_type": "markdown",
      "source": [
        "## Funções independentes"
      ],
      "metadata": {
        "id": "90_J1bA6ajY_"
      }
    },
    {
      "cell_type": "markdown",
      "source": [
        "\n",
        "Realiza o cálculo da distancia euclidiana.\n",
        "\n",
        "\\begin{align}\n",
        "        \\text{} d(x,y)= &\\sqrt{\\sum_{i=0}^n (xi-yi)^2 }    \\\\[1em]\n",
        "\\end{align}\n",
        "\n"
      ],
      "metadata": {
        "id": "De4fX9VsarWX"
      }
    },
    {
      "cell_type": "code",
      "source": [
        "def distEuclid (ponto1, ponto2):\n",
        "  return (((ponto1.get('x') - ponto2.get('x'))**2 + (ponto1.get('y') - ponto2.get('y'))**2)**0.5)"
      ],
      "metadata": {
        "id": "RSPAgga_aiJI"
      },
      "execution_count": null,
      "outputs": []
    },
    {
      "cell_type": "markdown",
      "source": [
        "Pontos para teste da função distEuclid()"
      ],
      "metadata": {
        "id": "jtq2NT8ahohp"
      }
    },
    {
      "cell_type": "code",
      "source": [
        "ponto1 = {'x': 2, 'y': 5}\n",
        "ponto2 = {'x': 3, 'y': 4}\n",
        "distEuclid(ponto1, ponto2)"
      ],
      "metadata": {
        "id": "LOpQZTNGhmTK",
        "colab": {
          "base_uri": "https://localhost:8080/"
        },
        "outputId": "29a976b1-334e-471b-fef2-07e2767be9fa"
      },
      "execution_count": null,
      "outputs": [
        {
          "output_type": "execute_result",
          "data": {
            "text/plain": [
              "1.4142135623730951"
            ]
          },
          "metadata": {},
          "execution_count": 7
        }
      ]
    },
    {
      "cell_type": "markdown",
      "source": [
        " Função que calcula a distancia euclidiana de um teste em relação a todos os pontos de treino, tem como\n",
        " retorno uma lista de distancias ordenada\n"
      ],
      "metadata": {
        "id": "McAYyZhCefWg"
      }
    },
    {
      "cell_type": "code",
      "source": [
        "def retornaPontosProximos (indiceTeste):\n",
        "  pontosProximos = []\n",
        "\n",
        "  for i in range(len(treino)):\n",
        "    pontosProximos.append({'Id' : treino[i].get('Id'), 'distancia' : distEuclid(treino[i], teste[indiceTeste]), 'classe' : treino[i].get('Species')})\n",
        "\n",
        "  pontosProximos.sort(key=lambda x: x['distancia'])\n",
        "\n",
        "  return pontosProximos"
      ],
      "metadata": {
        "id": "-O1KRztgec1p"
      },
      "execution_count": null,
      "outputs": []
    },
    {
      "cell_type": "code",
      "source": [
        "def classificador (k, pontosProximos):\n",
        "  valores = pontosProximos[:k]\n",
        "  setosa = 0\n",
        "  versicolor = 0\n",
        "  virginica = 0\n",
        "  for i in valores:\n",
        "    if i.get('classe') == 'Iris-setosa':\n",
        "      setosa += 1\n",
        "    elif i.get('classe') == 'Iris-versicolor':\n",
        "      versicolor += 1\n",
        "    else:\n",
        "      virginica += 1\n",
        "\n",
        "  if setosa > versicolor and setosa > virginica:\n",
        "    return 'Iris-setosa'\n",
        "  elif versicolor > setosa and versicolor > virginica:\n",
        "    return 'Iris-versicolor'\n",
        "  elif virginica > versicolor and virginica > setosa:\n",
        "    return 'Iris-virginica'"
      ],
      "metadata": {
        "id": "Nn2Wtrw0fOr2"
      },
      "execution_count": null,
      "outputs": []
    },
    {
      "cell_type": "code",
      "source": [
        "def classeId(classe):\n",
        "  if classe == 'Iris-setosa':\n",
        "    return 0\n",
        "  elif classe == 'Iris-versicolor':\n",
        "    return 1\n",
        "  elif classe == 'Iris-virginica':\n",
        "    return 2\n",
        "  else:\n",
        "    print(f\"A classe {classe} é inválida!\")\n",
        "    return -1"
      ],
      "metadata": {
        "id": "xlDu80L7fkIT"
      },
      "execution_count": null,
      "outputs": []
    },
    {
      "cell_type": "markdown",
      "source": [
        "## Funções dependentes"
      ],
      "metadata": {
        "id": "Lk0EnpEzfUI0"
      }
    },
    {
      "cell_type": "code",
      "source": [
        "def executaTeste(i, k):\n",
        "  pontosProximos = retornaPontosProximos(i)\n",
        "  return classificador(k, pontosProximos)"
      ],
      "metadata": {
        "id": "hkYPuYFSSnvF"
      },
      "execution_count": null,
      "outputs": []
    },
    {
      "cell_type": "code",
      "source": [
        "def testeKNN(k, debugMode):\n",
        "  acertou = 0\n",
        "  errou = 0\n",
        "  matrix_confusao = [[0, 0, 0], [0, 0, 0], [0, 0, 0]]\n",
        "\n",
        "  for i in range(len(teste)):\n",
        "    valorPredito = classeId(executaTeste(i, k))\n",
        "    valorReal = classeId(teste[i].get('Species'))\n",
        "\n",
        "    matrix_confusao[valorReal][valorPredito] += 1\n",
        "\n",
        "    if (valorPredito == valorReal):\n",
        "      acertou += 1\n",
        "    else:\n",
        "      errou += 1\n",
        "    if debugMode:\n",
        "      print(\"ID Dado testado: \", teste[i].get('Id'))\n",
        "      print(\"Classe original: \", teste[i].get('Species'))\n",
        "      print(\"Classe classificada: \", executaTeste(i, k))\n",
        "\n",
        "  acuracia = round((acertou/len(teste))*100, 2)\n",
        "\n",
        "  if debugMode:\n",
        "    print(f\"Acertos: {acertou}   Erros: {errou}    Acuracia: {acuracia}%\")\n",
        "\n",
        "  return acuracia, matrix_confusao\n"
      ],
      "metadata": {
        "id": "AfhW2sd1f_dR"
      },
      "execution_count": null,
      "outputs": []
    },
    {
      "cell_type": "markdown",
      "source": [
        "## Funções de plotagem"
      ],
      "metadata": {
        "id": "FyQa9MQljBog"
      }
    },
    {
      "cell_type": "code",
      "source": [
        "\n",
        "def plotMatrix(matriz, titulo):\n",
        "  matriz_np = np.array(matriz)\n",
        "\n",
        "  plt.imshow(matriz_np, cmap='viridis', interpolation='nearest')\n",
        "\n",
        "  plt.colorbar()\n",
        "\n",
        "  plt.xticks([0, 1, 2], ['Iris-setosa', 'Iris-versicolor', 'Iris-virginica'])\n",
        "  plt.yticks([0, 1, 2], ['Iris-setosa', 'Iris-versicolor', 'Iris-virginica'])\n",
        "  plt.title(titulo)\n",
        "  plt.xlabel('Valores Preditos')\n",
        "  plt.ylabel('Valores Reais')\n",
        "\n",
        "  for i in range(len(matriz)):\n",
        "    for j in range(len(matriz[0])):\n",
        "      plt.text(j, i, str(matriz[i][j]), ha='center', va='center', color='black')\n",
        "\n",
        "  plt.show()"
      ],
      "metadata": {
        "id": "sFozC7vC1uoE"
      },
      "execution_count": null,
      "outputs": []
    },
    {
      "cell_type": "code",
      "source": [
        "def plotGraficoBarra(categorias, valores, titulo, xlabel, ylabel):\n",
        "  plt.bar(categorias, valores)\n",
        "  plt.xlabel(xlabel)\n",
        "  plt.ylabel(ylabel)\n",
        "  plt.title(titulo)\n",
        "  plt.yscale('linear')\n",
        "\n",
        "  for i, v in enumerate(valores):\n",
        "    plt.text(i, v/2, str(v), color='white', ha='center', va='center')\n",
        "\n",
        "  plt.show()"
      ],
      "metadata": {
        "id": "oDLafbnXj3Cg"
      },
      "execution_count": null,
      "outputs": []
    },
    {
      "cell_type": "markdown",
      "source": [
        "## Metricas de avaliação"
      ],
      "metadata": {
        "id": "L1665lyUku56"
      }
    },
    {
      "cell_type": "markdown",
      "source": [
        "Calcula o recall macro para um problema de classificação multiclasse."
      ],
      "metadata": {
        "id": "_CMW2i9DlJjy"
      }
    },
    {
      "cell_type": "code",
      "source": [
        "def calcular_revocacao(classes_reais, classes_previstas):\n",
        "    num_classes = len(set(classes_reais))\n",
        "    revocacao = []\n",
        "\n",
        "    for classe in range(num_classes):\n",
        "        tp = 0  # Verdadeiros positivos\n",
        "        fn = 0  # Falsos negativos\n",
        "\n",
        "        for i in range(len(classes_reais)):\n",
        "            if classeId(classes_reais[i]) == classe:\n",
        "                if classeId(classes_reais[i]) == classeId(classes_previstas[i]):\n",
        "                    tp += 1\n",
        "                else:\n",
        "                    fn += 1\n",
        "\n",
        "        if tp + fn == 0:\n",
        "            revocacao.append(0)\n",
        "        else:\n",
        "            revocacao.append(tp / (tp + fn))\n",
        "\n",
        "    revocacao_macro = sum(revocacao) / len(revocacao)\n",
        "    return revocacao_macro\n",
        "\n",
        "def revocacao(k):\n",
        "  classes_reais = []\n",
        "  classes_previstas = []\n",
        "\n",
        "  for i in range(len(teste)):\n",
        "      classe_real = teste[i].get('Species')\n",
        "      classe_prevista = executaTeste(i, k)\n",
        "      classes_reais.append(classe_real)\n",
        "      classes_previstas.append(classe_prevista)\n",
        "\n",
        "  revocacao = calcular_revocacao(classes_reais, classes_previstas)\n",
        "  return f\"Revocacao para K = {k}: {round(revocacao,2)}\""
      ],
      "metadata": {
        "id": "oMwIwP7_k2t3"
      },
      "execution_count": null,
      "outputs": []
    },
    {
      "cell_type": "markdown",
      "source": [
        "Calcular a precisão macro para um problema de classificacao multiclasse"
      ],
      "metadata": {
        "id": "cL2ZMaaTlm69"
      }
    },
    {
      "cell_type": "code",
      "source": [
        "def calcular_precisao(classes_reais, classes_previstas):\n",
        "    num_classes = len(set(classes_reais))\n",
        "    precisoes = []\n",
        "\n",
        "    for classe in range(num_classes):\n",
        "        tp = 0  # Verdadeiros positivos\n",
        "        fp = 0  # Falsos positivos\n",
        "\n",
        "        for i in range(len(classes_reais)):\n",
        "            if classeId(classes_previstas[i]) == classe:  # Se a classe prevista for a classe atual\n",
        "                if classeId(classes_reais[i]) == classeId(classes_previstas[i]):  # Se a previsão estiver correta\n",
        "                    tp += 1\n",
        "                else:  # Se a previsão estiver incorreta\n",
        "                    fp += 1\n",
        "\n",
        "        if tp + fp == 0:  # Evita divisão por zero se não houver previsões para a classe\n",
        "            precisoes.append(0)\n",
        "        else:\n",
        "            precisoes.append(tp / (tp + fp))\n",
        "\n",
        "    precisao_macro = sum(precisoes) / len(precisoes)  # Calcula a média das precisões\n",
        "    return precisao_macro\n",
        "\n",
        "def precisao(k):\n",
        "  classes_reais = []\n",
        "  classes_previstas = []\n",
        "\n",
        "  for i in range(len(teste)):\n",
        "      classe_real = teste[i].get('Species')\n",
        "      classe_prevista = executaTeste(i, k)\n",
        "      classes_reais.append(classe_real)\n",
        "      classes_previstas.append(classe_prevista)\n",
        "\n",
        "  return f\"Precisão para K = {k}: {round(calcular_precisao(classes_reais, classes_previstas),2)}\""
      ],
      "metadata": {
        "id": "bsalQiDJlYPE"
      },
      "execution_count": null,
      "outputs": []
    },
    {
      "cell_type": "code",
      "source": [
        "def calculaMetricas(k):\n",
        "  print(revocacao(k))\n",
        "  print(precisao(k))"
      ],
      "metadata": {
        "id": "3URY8gRCmfOp"
      },
      "execution_count": null,
      "outputs": []
    },
    {
      "cell_type": "markdown",
      "source": [
        "## Treino"
      ],
      "metadata": {
        "id": "E9ZXX3brkOte"
      }
    },
    {
      "cell_type": "code",
      "source": [
        "k1, mc1 = testeKNN(1, False)\n",
        "k3, mc2 = testeKNN(3, False)\n",
        "k5, mc3 = testeKNN(5, False)\n",
        "k7, mc4 = testeKNN(7, False)\n",
        "\n",
        "print(\"K = 1\")\n",
        "print(mc1)\n",
        "print(\"K = 3\")\n",
        "print(mc2)\n",
        "print(\"K = 5\")\n",
        "print(mc3)\n",
        "print(\"K = 7\")\n",
        "print(mc4)"
      ],
      "metadata": {
        "id": "JI5qqRtLKKh_",
        "colab": {
          "base_uri": "https://localhost:8080/"
        },
        "outputId": "4ce52729-ac19-4d2a-a133-1c4cbc7e8593"
      },
      "execution_count": null,
      "outputs": [
        {
          "output_type": "stream",
          "name": "stdout",
          "text": [
            "K = 1\n",
            "[[11, 0, 0], [0, 9, 1], [0, 1, 8]]\n",
            "K = 3\n",
            "[[11, 0, 0], [0, 10, 0], [0, 0, 9]]\n",
            "K = 5\n",
            "[[11, 0, 0], [0, 9, 1], [0, 1, 8]]\n",
            "K = 7\n",
            "[[11, 0, 0], [0, 9, 1], [0, 0, 9]]\n"
          ]
        }
      ]
    },
    {
      "cell_type": "markdown",
      "source": [
        "## Avaliação"
      ],
      "metadata": {
        "id": "iC4zvmkIl8HN"
      }
    },
    {
      "cell_type": "code",
      "source": [
        "plotMatrix(mc1, \"K = 1\")\n",
        "print(f\"Acurácia: {k1}%\")\n",
        "calculaMetricas(1)"
      ],
      "metadata": {
        "colab": {
          "base_uri": "https://localhost:8080/",
          "height": 524
        },
        "id": "exQXeimTixvQ",
        "outputId": "d36257d4-a1fc-4ac9-cf0c-9303d18ee74b"
      },
      "execution_count": null,
      "outputs": [
        {
          "output_type": "display_data",
          "data": {
            "text/plain": [
              "<Figure size 640x480 with 2 Axes>"
            ],
            "image/png": "[encoded data removed]"
          },
          "metadata": {}
        },
        {
          "output_type": "stream",
          "name": "stdout",
          "text": [
            "Acurácia: 93.33%\n",
            "Revocacao para K = 1: 0.93\n",
            "Precisão para K = 1: 0.93\n"
          ]
        }
      ]
    },
    {
      "cell_type": "code",
      "source": [
        "plotMatrix(mc2, \"K = 3\")\n",
        "print(f\"Acurácia: {k3}%\")\n",
        "calculaMetricas(3)"
      ],
      "metadata": {
        "colab": {
          "base_uri": "https://localhost:8080/",
          "height": 524
        },
        "id": "Yo1zSzfX2113",
        "outputId": "1536fc19-52fb-49c6-b362-0bae379a4551"
      },
      "execution_count": null,
      "outputs": [
        {
          "output_type": "display_data",
          "data": {
            "text/plain": [
              "<Figure size 640x480 with 2 Axes>"
            ],
            "image/png": "[encoded data removed]"
          },
          "metadata": {}
        },
        {
          "output_type": "stream",
          "name": "stdout",
          "text": [
            "Acurácia: 100.0%\n",
            "Revocacao para K = 3: 1.0\n",
            "Precisão para K = 3: 1.0\n"
          ]
        }
      ]
    },
    {
      "cell_type": "code",
      "source": [
        "plotMatrix(mc3, \"K = 5\")\n",
        "print(f\"Acurácia: {k5}%\")\n",
        "calculaMetricas(5)"
      ],
      "metadata": {
        "colab": {
          "base_uri": "https://localhost:8080/",
          "height": 524
        },
        "id": "atR8_YlN4dni",
        "outputId": "f81f5e3c-a3b2-44e6-e7c3-8f9cbc60ba0f"
      },
      "execution_count": null,
      "outputs": [
        {
          "output_type": "display_data",
          "data": {
            "text/plain": [
              "<Figure size 640x480 with 2 Axes>"
            ],
            "image/png": "[encoded data removed]"
          },
          "metadata": {}
        },
        {
          "output_type": "stream",
          "name": "stdout",
          "text": [
            "Acurácia: 93.33%\n",
            "Revocacao para K = 5: 0.93\n",
            "Precisão para K = 5: 0.93\n"
          ]
        }
      ]
    },
    {
      "cell_type": "code",
      "source": [
        "plotMatrix(mc4, \"K = 7\")\n",
        "print(f\"Acurácia: {k7}%\")\n",
        "calculaMetricas(7)"
      ],
      "metadata": {
        "colab": {
          "base_uri": "https://localhost:8080/",
          "height": 524
        },
        "id": "Xg6hDFPT4gQS",
        "outputId": "b6bb3018-e7b0-4ddb-96b3-fa47942cda25"
      },
      "execution_count": null,
      "outputs": [
        {
          "output_type": "display_data",
          "data": {
            "text/plain": [
              "<Figure size 640x480 with 2 Axes>"
            ],
            "image/png": "[encoded data removed]"
          },
          "metadata": {}
        },
        {
          "output_type": "stream",
          "name": "stdout",
          "text": [
            "Acurácia: 96.67%\n",
            "Revocacao para K = 7: 0.97\n",
            "Precisão para K = 7: 0.97\n"
          ]
        }
      ]
    },
    {
      "cell_type": "code",
      "source": [
        "plotGraficoBarra(['1', '3', '5', '7'], [k1, k3, k5, k7], 'Acurácia', 'Valores de K', 'Acurácia (%)')"
      ],
      "metadata": {
        "colab": {
          "base_uri": "https://localhost:8080/",
          "height": 472
        },
        "id": "HeDgj0D8oNMZ",
        "outputId": "ae7ecd13-99e2-4e46-f003-facc78e06e6c"
      },
      "execution_count": null,
      "outputs": [
        {
          "output_type": "display_data",
          "data": {
            "text/plain": [
              "<Figure size 640x480 with 1 Axes>"
            ],
            "image/png": "[encoded data removed]"
          },
          "metadata": {}
        }
      ]
    },
    {
      "cell_type": "markdown",
      "source": [
        "# Implemetação usando Scikit-learn"
      ],
      "metadata": {
        "id": "KWzAwysAIP38"
      }
    },
    {
      "cell_type": "markdown",
      "source": [
        "Bibliotecas"
      ],
      "metadata": {
        "id": "4qdKNZguIeAW"
      }
    },
    {
      "cell_type": "code",
      "source": [
        "from sklearn.datasets import load_iris\n",
        "from sklearn.model_selection import train_test_split\n",
        "from sklearn.neighbors import KNeighborsClassifier\n",
        "from sklearn.metrics import accuracy_score\n",
        "from sklearn.metrics import confusion_matrix\n",
        "from sklearn.metrics import recall_score, precision_score\n"
      ],
      "metadata": {
        "id": "k2ZuGBSZIbPx"
      },
      "execution_count": null,
      "outputs": []
    },
    {
      "cell_type": "code",
      "source": [
        "iris = load_iris()\n",
        "X = iris.data  # Dados das características\n",
        "y = iris.target  # Rótulos das classes"
      ],
      "metadata": {
        "id": "79N0DYCUI97F"
      },
      "execution_count": null,
      "outputs": []
    },
    {
      "cell_type": "markdown",
      "source": [
        "Dividir os dados em conjuntos de treinamento e teste, sendo 80% para treinamento, 20% para teste"
      ],
      "metadata": {
        "id": "YbPAAmxdJFKA"
      }
    },
    {
      "cell_type": "code",
      "source": [
        "X_train, X_test, y_train, y_test = train_test_split(X, y, test_size=0.2, random_state=42)"
      ],
      "metadata": {
        "id": "ELa9moEbJB7M"
      },
      "execution_count": null,
      "outputs": []
    },
    {
      "cell_type": "markdown",
      "source": [
        "Criar e treinar o classificador KNN"
      ],
      "metadata": {
        "id": "n1CikIiaJd0R"
      }
    },
    {
      "cell_type": "code",
      "source": [
        "def treina_e_calcula_metricas(k):\n",
        "  knn = KNeighborsClassifier(n_neighbors=k)\n",
        "  knn.fit(X_train, y_train)\n",
        "\n",
        "  y_pred = knn.predict(X_test)\n",
        "\n",
        "  accuracy = accuracy_score(y_test, y_pred)\n",
        "\n",
        "  cm = confusion_matrix(y_test, y_pred)\n",
        "\n",
        "  recall = recall_score(y_test, y_pred, average='macro')\n",
        "\n",
        "  precision = precision_score(y_test, y_pred, average='macro')\n",
        "\n",
        "  plotMatrix(cm, f\"(sklearn) k = {k}\")\n",
        "\n",
        "  print(\"Acurácia:\", accuracy)\n",
        "  print(\"Recall:\", recall)\n",
        "  print(\"Precisão:\", precision)"
      ],
      "metadata": {
        "id": "SeVP9oloYmYX"
      },
      "execution_count": null,
      "outputs": []
    },
    {
      "cell_type": "code",
      "source": [
        "treina_e_calcula_metricas(1)"
      ],
      "metadata": {
        "colab": {
          "base_uri": "https://localhost:8080/",
          "height": 524
        },
        "id": "POr9hBbwYfso",
        "outputId": "deeefad5-361e-462f-b563-155db09b3845"
      },
      "execution_count": null,
      "outputs": [
        {
          "output_type": "display_data",
          "data": {
            "text/plain": [
              "<Figure size 640x480 with 2 Axes>"
            ],
            "image/png": "[encoded data removed]"
          },
          "metadata": {}
        },
        {
          "output_type": "stream",
          "name": "stdout",
          "text": [
            "Acurácia: 1.0\n",
            "Recall: 1.0\n",
            "Precisão: 1.0\n"
          ]
        }
      ]
    },
    {
      "cell_type": "code",
      "source": [
        "treina_e_calcula_metricas(3)"
      ],
      "metadata": {
        "colab": {
          "base_uri": "https://localhost:8080/",
          "height": 524
        },
        "id": "5qRnn_WSZE0b",
        "outputId": "a5baac6e-0e9a-479b-8c16-08ffeeda17b5"
      },
      "execution_count": null,
      "outputs": [
        {
          "output_type": "display_data",
          "data": {
            "text/plain": [
              "<Figure size 640x480 with 2 Axes>"
            ],
            "image/png": "[encoded data removed]"
          },
          "metadata": {}
        },
        {
          "output_type": "stream",
          "name": "stdout",
          "text": [
            "Acurácia: 1.0\n",
            "Recall: 1.0\n",
            "Precisão: 1.0\n"
          ]
        }
      ]
    },
    {
      "cell_type": "code",
      "source": [
        "treina_e_calcula_metricas(5)"
      ],
      "metadata": {
        "colab": {
          "base_uri": "https://localhost:8080/",
          "height": 524
        },
        "id": "3kNFNAVsZJuJ",
        "outputId": "7c063aaa-6e50-42c3-bfda-58bab0634039"
      },
      "execution_count": null,
      "outputs": [
        {
          "output_type": "display_data",
          "data": {
            "text/plain": [
              "<Figure size 640x480 with 2 Axes>"
            ],
            "image/png": "[encoded data removed]"
          },
          "metadata": {}
        },
        {
          "output_type": "stream",
          "name": "stdout",
          "text": [
            "Acurácia: 1.0\n",
            "Recall: 1.0\n",
            "Precisão: 1.0\n"
          ]
        }
      ]
    },
    {
      "cell_type": "code",
      "source": [
        "treina_e_calcula_metricas(7)"
      ],
      "metadata": {
        "colab": {
          "base_uri": "https://localhost:8080/",
          "height": 524
        },
        "id": "IBM5jjSPZLyy",
        "outputId": "2127c071-4d5d-47f8-d5db-946b96595a04"
      },
      "execution_count": null,
      "outputs": [
        {
          "output_type": "display_data",
          "data": {
            "text/plain": [
              "<Figure size 640x480 with 2 Axes>"
            ],
            "image/png": "[encoded data removed]"
          },
          "metadata": {}
        },
        {
          "output_type": "stream",
          "name": "stdout",
          "text": [
            "Acurácia: 0.9666666666666667\n",
            "Recall: 0.9629629629629629\n",
            "Precisão: 0.9722222222222222\n"
          ]
        }
      ]
    },
    {
      "cell_type": "code",
      "source": [],
      "metadata": {
        "id": "WzGar68DZfPq"
      },
      "execution_count": null,
      "outputs": []
    },
    {
      "cell_type": "markdown",
      "source": [
        "# Relatorio"
      ],
      "metadata": {
        "id": "ePyesZzRdkSO"
      }
    },
    {
      "cell_type": "code",
      "source": [],
      "metadata": {
        "id": "CYpxpriYd0bk"
      },
      "execution_count": null,
      "outputs": []
    },
    {
      "cell_type": "markdown",
      "source": [
        "# Relatório de Classificação de Iris com KNN\n",
        "\n",
        "## Introdução\n",
        "\n",
        "Este relatório apresenta os resultados da classificação da base de dados Iris utilizando o algoritmo K-Nearest Neighbors (KNN). O objetivo é avaliar o desempenho do algoritmo para diferentes valores de K e comparar os resultados com a implementação do Scikit-learn.\n",
        "\n",
        "## Metodologia\n",
        "\n",
        "O algoritmo KNN foi implementado de forma manual e utilizando a biblioteca Scikit-learn. Os dados foram divididos em conjuntos de treinamento e teste, com 80% para treinamento e 20% para teste na implementação manual e 70% para treinamento e 30% para teste na implementação do Scikit-learn. Foram utilizados os valores de K = 1, 3, 5 e 7 para avaliar o desempenho do algoritmo.\n",
        "\n",
        "## Resultados\n",
        "\n",
        "### Implementação Manual\n",
        "\n",
        "**Matrizes de Confusão:**\n",
        "\n",
        "* Incluir as matrizes de confusão geradas para cada valor de K.\n",
        "\n",
        "**Gráfico de Acurácia:**\n",
        "\n",
        "* Incluir o gráfico de barras com a acurácia para cada valor de K.\n",
        "\n",
        "**Métricas de Avaliação:**\n",
        "\n",
        "* Incluir a precisão e revocação para cada valor de K.\n",
        "\n",
        "### Implementação com Scikit-learn\n",
        "\n",
        "**Matrizes de Confusão:**\n",
        "\n",
        "* Incluir as matrizes de confusão geradas para cada valor de K.\n",
        "\n",
        "**Métricas de Avaliação:**\n",
        "\n",
        "* Incluir a acurácia, precisão e revocação para cada valor de K.\n",
        "\n",
        "## Análise dos Resultados\n",
        "\n",
        "Comparar os resultados obtidos com a implementação manual e com o Scikit-learn. Analisar o desempenho do algoritmo para diferentes valores de K e identificar o valor que apresentou melhor resultado. Discutir as vantagens e desvantagens do algoritmo KNN para este problema de classificação.\n",
        "\n",
        "## Conclusões\n",
        "\n",
        "Apresentar as conclusões sobre o desempenho do algoritmo KNN para a classificação da base de dados Iris."
      ],
      "metadata": {
        "id": "WzbBU5aDdpNW"
      }
    }
  ]
}